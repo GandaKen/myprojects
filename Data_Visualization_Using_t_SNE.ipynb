{
  "nbformat": 4,
  "nbformat_minor": 0,
  "metadata": {
    "colab": {
      "name": "Data Visualization Using t-SNE.ipynb",
      "provenance": [],
      "collapsed_sections": [],
      "include_colab_link": true
    },
    "kernelspec": {
      "name": "python3",
      "display_name": "Python 3"
    }
  },
  "cells": [
    {
      "cell_type": "markdown",
      "metadata": {
        "id": "view-in-github",
        "colab_type": "text"
      },
      "source": [
        "<a href=\"https://colab.research.google.com/github/GandaKen/myprojects/blob/master/Data_Visualization_Using_t_SNE.ipynb\" target=\"_parent\"><img src=\"https://colab.research.google.com/assets/colab-badge.svg\" alt=\"Open In Colab\"/></a>"
      ]
    },
    {
      "cell_type": "markdown",
      "metadata": {
        "id": "b0NtXarOAyhd",
        "colab_type": "text"
      },
      "source": [
        "Data Visualization Using t-SNE"
      ]
    },
    {
      "cell_type": "code",
      "metadata": {
        "id": "zkWreJ-PA9Mt",
        "colab_type": "code",
        "colab": {}
      },
      "source": [
        "#Imports \n",
        "import pandas as pd\n",
        "import numpy as np\n",
        "\n",
        "#Preprocessing\n",
        "from sklearn.preprocessing import LabelEncoder\n",
        "from sklearn.preprocessing import StandardScaler\n",
        "from sklearn.model_selection import train_test_split\n",
        "from sklearn.metrics import accuracy_score\n",
        "\n",
        "#visualize the data characteristics \n",
        "import matplotlib.pyplot as plt\n",
        "\n",
        "#Drawing Statistical plots\n",
        "import seaborn as sns\n"
      ],
      "execution_count": 0,
      "outputs": []
    },
    {
      "cell_type": "code",
      "metadata": {
        "id": "ok3GyYRECjZX",
        "colab_type": "code",
        "outputId": "b4d85519-5489-4e79-bef9-2e5900940da6",
        "colab": {
          "base_uri": "https://localhost:8080/",
          "height": 1000
        }
      },
      "source": [
        "#Download the data\n",
        "dataframe = pd.read_csv(\"https://d396qusza40orc.cloudfront.net/predmachlearn/pml-training.csv\")\n",
        "\n",
        "num_rows = dataframe.shape[0]\n",
        "\n",
        "print(dataframe)"
      ],
      "execution_count": 0,
      "outputs": [
        {
          "output_type": "stream",
          "text": [
            "/usr/local/lib/python3.6/dist-packages/IPython/core/interactiveshell.py:2718: DtypeWarning: Columns (11,14,19,22,25,70,73,86,87,89,90,94,97,100) have mixed types. Specify dtype option on import or set low_memory=False.\n",
            "  interactivity=interactivity, compiler=compiler, result=result)\n"
          ],
          "name": "stderr"
        },
        {
          "output_type": "stream",
          "text": [
            "       Unnamed: 0 user_name  ...  magnet_forearm_z  classe\n",
            "0               1  carlitos  ...             476.0       A\n",
            "1               2  carlitos  ...             473.0       A\n",
            "2               3  carlitos  ...             469.0       A\n",
            "3               4  carlitos  ...             469.0       A\n",
            "4               5  carlitos  ...             473.0       A\n",
            "5               6  carlitos  ...             478.0       A\n",
            "6               7  carlitos  ...             470.0       A\n",
            "7               8  carlitos  ...             474.0       A\n",
            "8               9  carlitos  ...             476.0       A\n",
            "9              10  carlitos  ...             473.0       A\n",
            "10             11  carlitos  ...             465.0       A\n",
            "11             12  carlitos  ...             478.0       A\n",
            "12             13  carlitos  ...             472.0       A\n",
            "13             14  carlitos  ...             478.0       A\n",
            "14             15  carlitos  ...             472.0       A\n",
            "15             16  carlitos  ...             471.0       A\n",
            "16             17  carlitos  ...             481.0       A\n",
            "17             18  carlitos  ...             472.0       A\n",
            "18             19  carlitos  ...             466.0       A\n",
            "19             20  carlitos  ...             480.0       A\n",
            "20             21  carlitos  ...             469.0       A\n",
            "21             22  carlitos  ...             478.0       A\n",
            "22             23  carlitos  ...             467.0       A\n",
            "23             24  carlitos  ...             470.0       A\n",
            "24             25  carlitos  ...             470.0       A\n",
            "25             26  carlitos  ...             462.0       A\n",
            "26             27  carlitos  ...             467.0       A\n",
            "27             28  carlitos  ...             477.0       A\n",
            "28             29  carlitos  ...             469.0       A\n",
            "29             30  carlitos  ...             479.0       A\n",
            "...           ...       ...  ...               ...     ...\n",
            "19592       19593  carlitos  ...            -137.0       E\n",
            "19593       19594  carlitos  ...            -132.0       E\n",
            "19594       19595  carlitos  ...            -117.0       E\n",
            "19595       19596  carlitos  ...            -108.0       E\n",
            "19596       19597    adelmo  ...             803.0       E\n",
            "19597       19598    adelmo  ...             890.0       E\n",
            "19598       19599    adelmo  ...             905.0       E\n",
            "19599       19600    adelmo  ...             878.0       E\n",
            "19600       19601    adelmo  ...             777.0       E\n",
            "19601       19602    adelmo  ...             700.0       E\n",
            "19602       19603    adelmo  ...             684.0       E\n",
            "19603       19604    adelmo  ...             630.0       E\n",
            "19604       19605    adelmo  ...             537.0       E\n",
            "19605       19606    adelmo  ...             512.0       E\n",
            "19606       19607    adelmo  ...             488.0       E\n",
            "19607       19608    adelmo  ...             460.0       E\n",
            "19608       19609    adelmo  ...             620.0       E\n",
            "19609       19610    adelmo  ...             596.0       E\n",
            "19610       19611    adelmo  ...             555.0       E\n",
            "19611       19612    adelmo  ...             540.0       E\n",
            "19612       19613    adelmo  ...             480.0       E\n",
            "19613       19614    adelmo  ...             431.0       E\n",
            "19614       19615    adelmo  ...             404.0       E\n",
            "19615       19616    adelmo  ...             173.0       E\n",
            "19616       19617    adelmo  ...              27.0       E\n",
            "19617       19618    adelmo  ...               6.0       E\n",
            "19618       19619    adelmo  ...             -36.0       E\n",
            "19619       19620    adelmo  ...             -70.0       E\n",
            "19620       19621    adelmo  ...             -98.0       E\n",
            "19621       19622    adelmo  ...            -110.0       E\n",
            "\n",
            "[19622 rows x 160 columns]\n"
          ],
          "name": "stdout"
        }
      ]
    },
    {
      "cell_type": "markdown",
      "metadata": {
        "id": "NHib8IExDxsr",
        "colab_type": "text"
      },
      "source": [
        "Clean The Data"
      ]
    },
    {
      "cell_type": "code",
      "metadata": {
        "id": "2-aZ4xnVDaMq",
        "colab_type": "code",
        "colab": {}
      },
      "source": [
        "#Check if there are missing values in the data\n",
        "nans = dataframe.isnull()\n",
        "\n",
        "#print(nans)\n",
        "\n",
        "#Count the total number of missing values/null data\n",
        "count_nan = dataframe.isnull().sum()\n",
        "\n",
        "#print(count_nan)\n",
        "\n",
        "#Count without nan values\n",
        "count_wo_nan = count_nan[count_nan==0]\n",
        "\n",
        "#print(count_wo_nan)"
      ],
      "execution_count": 0,
      "outputs": []
    },
    {
      "cell_type": "code",
      "metadata": {
        "id": "M2y1-695E21O",
        "colab_type": "code",
        "outputId": "1f92b52a-6678-4789-ea8a-7c357b7ae522",
        "colab": {
          "base_uri": "https://localhost:8080/",
          "height": 458
        }
      },
      "source": [
        "#remove the columns with missing elements\n",
        "dataframe = dataframe[count_wo_nan.keys()]\n",
        "\n",
        "#remove the first 7 columns which contain no discriminative information\n",
        "dataframe = dataframe.ix[:,7:] #remove ix\n",
        "\n",
        "\n",
        "# List of columns (the last column is the class label)\n",
        "columns = dataframe.columns\n",
        "\n",
        "print (columns)\n"
      ],
      "execution_count": 0,
      "outputs": [
        {
          "output_type": "stream",
          "text": [
            "Index(['roll_belt', 'pitch_belt', 'yaw_belt', 'total_accel_belt',\n",
            "       'gyros_belt_x', 'gyros_belt_y', 'gyros_belt_z', 'accel_belt_x',\n",
            "       'accel_belt_y', 'accel_belt_z', 'magnet_belt_x', 'magnet_belt_y',\n",
            "       'magnet_belt_z', 'roll_arm', 'pitch_arm', 'yaw_arm', 'total_accel_arm',\n",
            "       'gyros_arm_x', 'gyros_arm_y', 'gyros_arm_z', 'accel_arm_x',\n",
            "       'accel_arm_y', 'accel_arm_z', 'magnet_arm_x', 'magnet_arm_y',\n",
            "       'magnet_arm_z', 'roll_dumbbell', 'pitch_dumbbell', 'yaw_dumbbell',\n",
            "       'total_accel_dumbbell', 'gyros_dumbbell_x', 'gyros_dumbbell_y',\n",
            "       'gyros_dumbbell_z', 'accel_dumbbell_x', 'accel_dumbbell_y',\n",
            "       'accel_dumbbell_z', 'magnet_dumbbell_x', 'magnet_dumbbell_y',\n",
            "       'magnet_dumbbell_z', 'roll_forearm', 'pitch_forearm', 'yaw_forearm',\n",
            "       'total_accel_forearm', 'gyros_forearm_x', 'gyros_forearm_y',\n",
            "       'gyros_forearm_z', 'accel_forearm_x', 'accel_forearm_y',\n",
            "       'accel_forearm_z', 'magnet_forearm_x', 'magnet_forearm_y',\n",
            "       'magnet_forearm_z', 'classe'],\n",
            "      dtype='object')\n"
          ],
          "name": "stdout"
        },
        {
          "output_type": "stream",
          "text": [
            "/usr/local/lib/python3.6/dist-packages/ipykernel_launcher.py:4: DeprecationWarning: \n",
            ".ix is deprecated. Please use\n",
            ".loc for label based indexing or\n",
            ".iloc for positional indexing\n",
            "\n",
            "See the documentation here:\n",
            "http://pandas.pydata.org/pandas-docs/stable/indexing.html#ix-indexer-is-deprecated\n",
            "  after removing the cwd from sys.path.\n"
          ],
          "name": "stderr"
        }
      ]
    },
    {
      "cell_type": "markdown",
      "metadata": {
        "id": "eY1dLm93GDrY",
        "colab_type": "text"
      },
      "source": [
        "Get the Features and Scale appropriately "
      ]
    },
    {
      "cell_type": "code",
      "metadata": {
        "id": "qhH_7A50GJyA",
        "colab_type": "code",
        "colab": {}
      },
      "source": [
        "#Get features (x) and scale the features and convert it to numpy array\n",
        "x = dataframe.iloc[:,:-1].values\n",
        "\n",
        "standard_scaler = StandardScaler()\n",
        "\n",
        "x_std = standard_scaler.fit_transform(x)\n",
        "\n",
        "\n",
        "#Get class labels y and then encode it into number  \n",
        "# get class label data \n",
        "\n",
        "y = dataframe.iloc[:,-1].values\n",
        "\n",
        "\n",
        "# encode the class label \n",
        "class_labels = np.unique(y)\n",
        "\n",
        "label_encoder = LabelEncoder() \n",
        "\n",
        "y = label_encoder.fit_transform(y) \n",
        "\n"
      ],
      "execution_count": 0,
      "outputs": []
    },
    {
      "cell_type": "markdown",
      "metadata": {
        "id": "dRQCT31ZHnpt",
        "colab_type": "text"
      },
      "source": [
        "Split the Data into training and test set"
      ]
    },
    {
      "cell_type": "code",
      "metadata": {
        "id": "KXAP8IvMHxv1",
        "colab_type": "code",
        "colab": {}
      },
      "source": [
        "test_percentage = 0.1\n",
        "\n",
        "x_train, x_test, y_train, y_test = train_test_split(x_std, y, test_size = test_percentage, random_state = 10)"
      ],
      "execution_count": 0,
      "outputs": []
    },
    {
      "cell_type": "markdown",
      "metadata": {
        "id": "NkKQM1EgIGn2",
        "colab_type": "text"
      },
      "source": [
        "Distributed Stochastic Neighbor Embeding"
      ]
    },
    {
      "cell_type": "code",
      "metadata": {
        "id": "tgeu7BotIQhG",
        "colab_type": "code",
        "colab": {}
      },
      "source": [
        "# Dimensionality reduction\n",
        "#t-distributed Stochastic Neighbor Embedding (t-SNE) visualization\n",
        "from sklearn.manifold import TSNE\n",
        "\n",
        "tsne = TSNE(n_components=2, random_state=10)\n",
        "\n",
        "x_test_3d = tsne.fit_transform(x_test)\n",
        "\n",
        "\n",
        "\n"
      ],
      "execution_count": 0,
      "outputs": []
    },
    {
      "cell_type": "markdown",
      "metadata": {
        "id": "rkGtqdMKIpBP",
        "colab_type": "text"
      },
      "source": [
        "Scatter Plot for 5 sample Points"
      ]
    },
    {
      "cell_type": "code",
      "metadata": {
        "id": "ap-we7OyItPA",
        "colab_type": "code",
        "outputId": "2a30acc9-7ba5-4f1d-a8bc-a453182620e2",
        "colab": {
          "base_uri": "https://localhost:8080/",
          "height": 295
        }
      },
      "source": [
        "markers=('s', 'd', 'o', '^', 'v')\n",
        "\n",
        "color_map = {0:'red', 1:'blue', 2:'lightgreen', 3:'purple', 4:'cyan'}\n",
        "\n",
        "plt.figure()\n",
        "\n",
        "for idx, cl in enumerate(np.unique(y_test)):\n",
        "  plt.scatter(x=x_test_3d[y_test==cl,0], y=x_test_3d[y_test==cl,1], c=color_map[idx], marker=markers[idx], label=cl)\n",
        "  \n",
        "plt.xlabel('X in t-SNE')\n",
        "plt.ylabel('Y in t-SNE')\n",
        "plt.legend(loc='upper left')\n",
        "plt.title('t-SNE visualization of test data')\n",
        "plt.show()\n",
        "  "
      ],
      "execution_count": 0,
      "outputs": [
        {
          "output_type": "display_data",
          "data": {
            "image/png": "[encoded data removed]",
            "text/plain": [
              "<Figure size 432x288 with 1 Axes>"
            ]
          },
          "metadata": {
            "tags": []
          }
        }
      ]
    }
  ]
}